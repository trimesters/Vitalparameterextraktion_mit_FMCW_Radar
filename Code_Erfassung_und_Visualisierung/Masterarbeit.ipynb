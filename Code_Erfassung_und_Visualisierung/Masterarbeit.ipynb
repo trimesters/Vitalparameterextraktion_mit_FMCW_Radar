{
 "cells": [
  {
   "cell_type": "markdown",
   "id": "51a27d3b-d0fc-4f49-81b1-a80c6661fc55",
   "metadata": {},
   "source": [
    "# Control panel for pulse and respiration detection"
   ]
  },
  {
   "cell_type": "code",
   "execution_count": null,
   "id": "b6d79ef7-07c2-4f29-b488-7c5addd2a19c",
   "metadata": {},
   "outputs": [],
   "source": []
  },
  {
   "cell_type": "markdown",
   "id": "1a8d349b-1950-4a4c-b0f6-2c5ecb089869",
   "metadata": {},
   "source": [
    "## Libaray"
   ]
  },
  {
   "cell_type": "code",
   "execution_count": 1,
   "id": "2e62aa03-c7a0-4a2a-b02a-cf01f69eec84",
   "metadata": {
    "jupyter": {
     "source_hidden": true
    },
    "tags": []
   },
   "outputs": [],
   "source": [
    "# standart libraries\n"
   ]
  },
  {
   "cell_type": "code",
   "execution_count": 1,
   "id": "3c8748c1-807f-422c-9a96-8544ddb1b4b8",
   "metadata": {},
   "outputs": [],
   "source": [
    "# project libraries\n",
    "import main as mai"
   ]
  },
  {
   "cell_type": "markdown",
   "id": "d43deb60-dbb5-4720-919a-340fe83e2abc",
   "metadata": {},
   "source": [
    "## Code"
   ]
  },
  {
   "cell_type": "code",
   "execution_count": null,
   "id": "987da634-9093-47e9-8d44-e88f52d05908",
   "metadata": {},
   "outputs": [],
   "source": [
    "\n",
    "mai.start_app()"
   ]
  },
  {
   "cell_type": "code",
   "execution_count": null,
   "id": "bd5c5f32-26c5-4b59-8d4e-b540d5b5405c",
   "metadata": {},
   "outputs": [],
   "source": []
  },
  {
   "cell_type": "code",
   "execution_count": 2,
   "id": "0433b176-0985-430e-9ded-03b8c3fb4c4e",
   "metadata": {},
   "outputs": [
    {
     "ename": "SystemExit",
     "evalue": "0",
     "output_type": "error",
     "traceback": [
      "An exception has occurred, use %tb to see the full traceback.\n",
      "\u001b[1;31mSystemExit\u001b[0m\u001b[1;31m:\u001b[0m 0\n"
     ]
    },
    {
     "name": "stderr",
     "output_type": "stream",
     "text": [
      "C:\\Users\\flori\\anaconda3\\envs\\Masterarbeit_1\\lib\\site-packages\\IPython\\core\\interactiveshell.py:3468: UserWarning: To exit: use 'exit', 'quit', or Ctrl-D.\n",
      "  warn(\"To exit: use 'exit', 'quit', or Ctrl-D.\", stacklevel=1)\n"
     ]
    }
   ],
   "source": [
    "\n",
    "import main as mai\n",
    "mai.start_app() \n"
   ]
  },
  {
   "cell_type": "code",
   "execution_count": null,
   "id": "80774cb7-2cec-4b66-9fa4-9811f9bd53df",
   "metadata": {},
   "outputs": [],
   "source": []
  },
  {
   "cell_type": "markdown",
   "id": "b51c3c0b-5284-4fae-a526-1cf1c6368fe3",
   "metadata": {},
   "source": [
    "# Calculate the necessary filter order"
   ]
  },
  {
   "cell_type": "code",
   "execution_count": null,
   "id": "e5ba3c2a-43fa-4809-874e-b886f7379986",
   "metadata": {},
   "outputs": [],
   "source": []
  },
  {
   "cell_type": "code",
   "execution_count": 1,
   "id": "65f52202-72b1-4983-939b-f7be20075bc5",
   "metadata": {},
   "outputs": [
    {
     "name": "stdout",
     "output_type": "stream",
     "text": [
      "Order: 6\n",
      "Critical frequencies: [0.79516724 1.        ]\n"
     ]
    }
   ],
   "source": [
    "from scipy import signal\n",
    "\n",
    "# Designspezifikationen\n",
    "passband = [0.8, 3]\n",
    "stopband = [0.6, 3.4]\n",
    "max_passband_loss = 3  # in dB\n",
    "min_stopband_attenuation = 40  # in dB\n",
    "\n",
    "# Bestimmen der minimalen Ordnung und kritischen Frequenzen\n",
    "order, critical_freq = signal.buttord(passband, stopband, max_passband_loss, min_stopband_attenuation)\n",
    "\n",
    "# Berechnen der Filterkoeffizienten\n",
    "heart_sos_high = signal.butter(order, passband, btype='band', fs=100, output='sos')\n",
    "\n",
    "print(\"Order:\", order)\n",
    "print(\"Critical frequencies:\", critical_freq)\n"
   ]
  },
  {
   "cell_type": "code",
   "execution_count": null,
   "id": "57d09129-1417-49d7-9d67-7634f20d071f",
   "metadata": {},
   "outputs": [],
   "source": []
  }
 ],
 "metadata": {
  "kernelspec": {
   "display_name": "Python 3 (ipykernel)",
   "language": "python",
   "name": "python3"
  },
  "language_info": {
   "codemirror_mode": {
    "name": "ipython",
    "version": 3
   },
   "file_extension": ".py",
   "mimetype": "text/x-python",
   "name": "python",
   "nbconvert_exporter": "python",
   "pygments_lexer": "ipython3",
   "version": "3.10.10"
  },
  "widgets": {
   "application/vnd.jupyter.widget-state+json": {
    "state": {},
    "version_major": 2,
    "version_minor": 0
   }
  }
 },
 "nbformat": 4,
 "nbformat_minor": 5
}
