{
 "cells": [
  {
   "cell_type": "markdown",
   "id": "51a27d3b-d0fc-4f49-81b1-a80c6661fc55",
   "metadata": {},
   "source": [
    "# Control panel for pulse and respiration detection"
   ]
  },
  {
   "cell_type": "code",
   "execution_count": 1,
   "id": "3c8748c1-807f-422c-9a96-8544ddb1b4b8",
   "metadata": {},
   "outputs": [],
   "source": [
    "\n",
    "import main as mai\n"
   ]
  },
  {
   "cell_type": "markdown",
   "id": "d43deb60-dbb5-4720-919a-340fe83e2abc",
   "metadata": {},
   "source": [
    "## Code"
   ]
  },
  {
   "cell_type": "code",
   "execution_count": null,
   "id": "987da634-9093-47e9-8d44-e88f52d05908",
   "metadata": {},
   "outputs": [],
   "source": [
    "\n",
    "mai.start_app()\n"
   ]
  },
  {
   "cell_type": "code",
   "execution_count": null,
   "id": "f767b500-fe09-4f04-95c7-f8e5ea587284",
   "metadata": {},
   "outputs": [],
   "source": []
  },
  {
   "cell_type": "markdown",
   "id": "b51c3c0b-5284-4fae-a526-1cf1c6368fe3",
   "metadata": {},
   "source": [
    "# Calculate the necessary filter order"
   ]
  },
  {
   "cell_type": "code",
   "execution_count": null,
   "id": "e5ba3c2a-43fa-4809-874e-b886f7379986",
   "metadata": {},
   "outputs": [],
   "source": [
    "\n",
    "from scipy import signal\n"
   ]
  },
  {
   "cell_type": "code",
   "execution_count": 29,
   "id": "65f52202-72b1-4983-939b-f7be20075bc5",
   "metadata": {},
   "outputs": [
    {
     "name": "stdout",
     "output_type": "stream",
     "text": [
      "Order: 5\n",
      "Critical frequencies: [0.79516724 1.        ]\n"
     ]
    }
   ],
   "source": [
    "\n",
    "# Designspezifikationen\n",
    "passband = [0.80, 3]\n",
    "stopband = [0.5, 3.8]\n",
    "max_passband_loss = 3  # in dB\n",
    "min_stopband_attenuation = 40  # in dB\n",
    "\n",
    "# Bestimmen der minimalen Ordnung und kritischen Frequenzen\n",
    "order, critical_freq = signal.buttord(passband, stopband, max_passband_loss, min_stopband_attenuation)\n",
    "\n",
    "# Berechnen der Filterkoeffizienten\n",
    "heart_sos_high = signal.butter(order, passband, btype='band', fs=100, output='sos')\n",
    "\n",
    "print(\"Order:\", order)\n",
    "print(\"Critical frequencies:\", critical_freq)\n"
   ]
  },
  {
   "cell_type": "code",
   "execution_count": null,
   "id": "120f70d5-fb99-40a3-8785-28be211112c5",
   "metadata": {},
   "outputs": [],
   "source": []
  }
 ],
 "metadata": {
  "kernelspec": {
   "display_name": "Python 3 (ipykernel)",
   "language": "python",
   "name": "python3"
  },
  "language_info": {
   "codemirror_mode": {
    "name": "ipython",
    "version": 3
   },
   "file_extension": ".py",
   "mimetype": "text/x-python",
   "name": "python",
   "nbconvert_exporter": "python",
   "pygments_lexer": "ipython3",
   "version": "3.10.10"
  },
  "widgets": {
   "application/vnd.jupyter.widget-state+json": {
    "state": {},
    "version_major": 2,
    "version_minor": 0
   }
  }
 },
 "nbformat": 4,
 "nbformat_minor": 5
}
