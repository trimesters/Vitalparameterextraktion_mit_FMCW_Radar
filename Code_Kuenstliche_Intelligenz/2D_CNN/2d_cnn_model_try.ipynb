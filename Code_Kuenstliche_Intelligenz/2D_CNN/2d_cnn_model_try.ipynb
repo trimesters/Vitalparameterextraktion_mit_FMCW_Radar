{
 "cells": [
  {
   "cell_type": "markdown",
   "id": "08c2fcff-1d84-46b1-abba-387216d87457",
   "metadata": {},
   "source": [
    "# Algorithmus für künstliche Intelligenz mit CNN"
   ]
  },
  {
   "cell_type": "markdown",
   "id": "f60dc300-a77c-4fbc-9740-a019f619e386",
   "metadata": {},
   "source": [
    "## Libaray"
   ]
  },
  {
   "cell_type": "code",
   "execution_count": 1,
   "id": "45d3a56a-304d-4e05-a93e-862cd647b9c2",
   "metadata": {
    "tags": []
   },
   "outputs": [],
   "source": [
    "import os\n",
    "import glob\n",
    "import time\n",
    "\n",
    "import numpy as np\n",
    "import random\n",
    "\n",
    "import optuna\n",
    "\n",
    "import torch\n",
    "from torch import nn\n",
    "import torch.optim as optim\n",
    "\n",
    "from torch.utils.data import DataLoader\n",
    "from torch.utils.data import TensorDataset\n",
    "from torch.utils.data import Dataset\n",
    "\n",
    "import torchvision.models as models\n",
    "from torchvision.models import ResNet50_Weights\n",
    "\n",
    "from scipy import signal\n",
    "\n",
    "import matplotlib.pyplot as plt\n",
    "\n"
   ]
  },
  {
   "cell_type": "code",
   "execution_count": 2,
   "id": "a91d2136-47c8-4570-82ae-6281da1afbae",
   "metadata": {
    "tags": []
   },
   "outputs": [],
   "source": [
    "torch.set_float32_matmul_precision(\"high\")"
   ]
  },
  {
   "cell_type": "markdown",
   "id": "97a6e9b2-9d7d-4bdc-a7fb-17f7e73ba928",
   "metadata": {},
   "source": [
    "## Modell auf der GPU ausführen"
   ]
  },
  {
   "cell_type": "code",
   "execution_count": 3,
   "id": "8ad082b2-e2d6-4794-99ca-754588e54b1f",
   "metadata": {},
   "outputs": [
    {
     "name": "stdout",
     "output_type": "stream",
     "text": [
      "cuda:0\n"
     ]
    }
   ],
   "source": [
    "\n",
    "device = torch.device(\"cuda:0\" if torch.cuda.is_available() else \"cpu\")\n",
    "print(device)\n"
   ]
  },
  {
   "cell_type": "markdown",
   "id": "9b4a867a-9cb3-468e-8368-82281bcb3b64",
   "metadata": {},
   "source": [
    "## Modell Name"
   ]
  },
  {
   "cell_type": "code",
   "execution_count": 4,
   "id": "e0cd0c4b-47a0-4b99-8b5f-e423919bdcb4",
   "metadata": {},
   "outputs": [],
   "source": [
    "model_name = \"cnn_model_V3.pt\""
   ]
  },
  {
   "cell_type": "markdown",
   "id": "2ae871c7-68b7-43ba-aa9a-44dc5c92d040",
   "metadata": {},
   "source": [
    "## Einlesen der Daten"
   ]
  },
  {
   "cell_type": "code",
   "execution_count": 5,
   "id": "c974fe44-ee94-49ec-a91b-56e57ca1a7c2",
   "metadata": {},
   "outputs": [],
   "source": [
    "class Load_Data:\n",
    "    \n",
    "    def __init__(self, root_dir = \"\"):\n",
    "        \n",
    "        self.root_dir = root_dir\n",
    "        \n",
    "        self.signal_list_all = []\n",
    "        self.lable_list_all = []\n",
    "        \n",
    "        self.signal_list_80 = []\n",
    "        self.signal_list_20 = []\n",
    "        self.lable_list_80 = []\n",
    "        self.lable_list_20 = []\n",
    "        \n",
    "        self.width_w = np.arange(1, 127)\n",
    "        \n",
    "        self.load_data()\n",
    "        self.sort_data()\n",
    "\n",
    "    def load_data(self):\n",
    "        \n",
    "        for dirpath, dirnames, filenames in os.walk(self.root_dir):\n",
    "            for filename in filenames:\n",
    "                if filename.endswith('.npz'): \n",
    "                    \n",
    "                    file_path = os.path.join(dirpath, filename)\n",
    "                    data = np.load(file_path)\n",
    "                    \n",
    "                    frame_buffer = data['frame']\n",
    "                    \n",
    "                    max_val  = np.argmax(frame_buffer)\n",
    "                    max_indices = np.unravel_index(max_val, frame_buffer.shape)[0]\n",
    "                    #print(f\"max_val {max_val}, max_indices: {max_indices}\")\n",
    "                    \n",
    "                    if(max_indices < 13):\n",
    "                        max_indices = 14\n",
    "                        \n",
    "                    if(max_indices > 17):\n",
    "                        max_indices = 16\n",
    "                        \n",
    "                    signal_r = frame_buffer[max_indices,:]\n",
    "\n",
    "                    #signal_r = data['signal']\n",
    "                    #signal_full = signal_[np.newaxis] # An additional dimension is needed for later processing\n",
    "                    signal_a = signal_r[::]  # Halving of the input data and thus of the features\n",
    "                    \n",
    "                    heart_rate = data['heart_uart']\n",
    "                    respiration_rate = data['respiration_radar']\n",
    "                    \n",
    "                    heart_rate_t = heart_rate\n",
    "                    respiration_rate_t = respiration_rate\n",
    "                    signal_t = signal_a\n",
    "   \n",
    "                    self.lable_list_all.append([heart_rate_t, respiration_rate_t])\n",
    "                    self.signal_list_all.append(signal_t)\n",
    "    \n",
    "    def sort_data(self):   \n",
    "        \n",
    "        lable = np.array(self.lable_list_all)\n",
    "        signal_a = np.array(self.signal_list_all)\n",
    "\n",
    "        unique_elements, counts_elements = np.unique(lable[:,0], return_counts=True)\n",
    "        \n",
    "        print(counts_elements)\n",
    "        print(unique_elements)\n",
    "        \n",
    "        for element in unique_elements:\n",
    "            \n",
    "            total_count = counts_elements[np.where(unique_elements == element)]\n",
    "            \n",
    "            count_80 = int(total_count * 0.8)\n",
    "            \n",
    "            arr_l_80, arr_l_20 = np.split(lable[(lable[:,0] == element)], [count_80])\n",
    "            arr_s_80, arr_s_20 = np.split(signal_a[(lable[:,0] == element)], [count_80])\n",
    "\n",
    "            for count in range(len(arr_l_80)):\n",
    "                self.lable_list_80.append(arr_l_80[count])\n",
    "                \n",
    "            for count in range(len(arr_l_20)):   \n",
    "                self.lable_list_20.append(arr_l_20[count])\n",
    "                \n",
    "            for count in range(len(arr_l_80)):\n",
    "               \n",
    "                cwtmatr80_c = signal.cwt(arr_s_80[count], signal.ricker, self.width_w, dtype=\"complex64\")\n",
    "                cwtmatr80_r = np.absolute(cwtmatr80_c)\n",
    "                self.signal_list_80.append(cwtmatr80_r)\n",
    "                \n",
    "            for count in range(len(arr_l_20)):   \n",
    "                cwtmatr20_c = signal.cwt(arr_s_20[count], signal.ricker, self.width_w, dtype=\"complex64\")\n",
    "                cwtmatr20_r = np.absolute(cwtmatr20_c)\n",
    "                self.signal_list_20.append(cwtmatr20_r)     \n",
    "                \n",
    "    def get_dataset_80(self):   \n",
    "        return self.signal_list_80, self.lable_list_80\n",
    "        \n",
    "    def get_dataset_20(self):   \n",
    "        return self.signal_list_20, self.lable_list_20\n",
    "    "
   ]
  },
  {
   "cell_type": "code",
   "execution_count": 6,
   "id": "347a6384-6aa6-4216-8bb9-6701497bf15f",
   "metadata": {
    "tags": []
   },
   "outputs": [],
   "source": [
    "class MyDataset(Dataset):\n",
    "    \n",
    "    def __init__(self, signal_list, lable_list):\n",
    "\n",
    "        self.lable_list_ = lable_list\n",
    "        self.signal_list_ = signal_list\n",
    "        self.lable_list = []\n",
    "        self.signal_list = []\n",
    "        \n",
    "        self.append_data()\n",
    "\n",
    "    def append_data(self):\n",
    "        \n",
    "        lable = np.array(self.lable_list_)\n",
    "        signal = np.array(self.signal_list_)\n",
    "\n",
    "        lable_ = torch.from_numpy(lable).float().to(device)\n",
    "        signal_ = torch.from_numpy(signal).float().to(device)\n",
    "        \n",
    "        for value in lable_:\n",
    "            self.lable_list.append(value)\n",
    "            \n",
    "        for value in signal_:\n",
    "            self.signal_list.append(value)\n",
    "\n",
    "    def __len__(self):\n",
    "        \n",
    "\n",
    "        return len(self.lable_list) // 2\n",
    "\n",
    "    def __getitem__(self, idx):\n",
    "\n",
    "        return self.signal_list[idx], self.lable_list[idx]\n",
    "    "
   ]
  },
  {
   "cell_type": "code",
   "execution_count": 7,
   "id": "b7e1f8b4-93cc-4a57-839a-f70320badf09",
   "metadata": {},
   "outputs": [
    {
     "name": "stdout",
     "output_type": "stream",
     "text": [
      "[  4  49  25  27  53  48  34  66  86 144  96  90 122 199 231 234 257 209\n",
      " 220 106 223 221 157 120 207 167 118 131  71  76 113  19  10   9   9   7\n",
      "   2]\n",
      "[56 57 58 59 60 61 62 63 64 65 66 67 68 69 70 71 72 73 74 75 76 77 78 79\n",
      " 80 81 82 83 84 85 86 87 88 89 90 91 92]\n"
     ]
    }
   ],
   "source": [
    "root_folder_train = \"data\"\n",
    "\n",
    "dataset = Load_Data(root_folder_train)"
   ]
  },
  {
   "cell_type": "code",
   "execution_count": 8,
   "id": "eacf7210-7317-45f5-8fba-761d10185ec8",
   "metadata": {},
   "outputs": [],
   "source": [
    "signal_list_80, lable_list_80 = dataset.get_dataset_80()\n",
    "\n",
    "dataset_train = MyDataset(signal_list_80, lable_list_80)"
   ]
  },
  {
   "cell_type": "code",
   "execution_count": 9,
   "id": "4d3a87b8-b2bf-41df-8e18-20304e6607b8",
   "metadata": {},
   "outputs": [],
   "source": [
    "signal_list_20, lable_list_20 = dataset.get_dataset_20()\n",
    "\n",
    "dataset_test = MyDataset(signal_list_20, lable_list_20)"
   ]
  },
  {
   "cell_type": "code",
   "execution_count": 10,
   "id": "d2c27089-8e16-4892-baab-a3b300b9c317",
   "metadata": {},
   "outputs": [],
   "source": [
    "\n",
    "dataloader_train = DataLoader(dataset_train, batch_size=32, shuffle=True)\n"
   ]
  },
  {
   "cell_type": "code",
   "execution_count": 11,
   "id": "6f2f91c1-803b-43f0-8fa0-86552b9acc95",
   "metadata": {},
   "outputs": [
    {
     "name": "stdout",
     "output_type": "stream",
     "text": [
      "0\n",
      "torch.Size([32, 126, 1500])\n",
      "torch.Size([32, 2])\n",
      "tensor([67.,  6.], device='cuda:0')\n"
     ]
    },
    {
     "data": {
      "image/png": "[encoded data removed]",
      "text/plain": [
       "<Figure size 640x480 with 1 Axes>"
      ]
     },
     "metadata": {},
     "output_type": "display_data"
    }
   ],
   "source": [
    "\n",
    "for i_batch, (inputs, targets) in enumerate(dataloader_train):\n",
    "\n",
    "    print(i_batch)\n",
    "    print(inputs.shape)\n",
    "    print(targets.shape)\n",
    "    print(targets[0,:])\n",
    "\n",
    "    test_wavelet = inputs[0,:,:].cpu()\n",
    "    \n",
    "    plt.imshow(test_wavelet)\n",
    "    plt.title(\"Continuous wavelet transform\", fontweight =\"bold\")\n",
    "    plt.savefig(\"CWT_train.png\")  \n",
    "    plt.show()\n",
    "\n",
    "    break\n",
    "    \n",
    "    "
   ]
  },
  {
   "cell_type": "code",
   "execution_count": 12,
   "id": "1cea146b-d796-4378-a7c5-2f6783beb9b8",
   "metadata": {},
   "outputs": [],
   "source": [
    "\n",
    "dataloader_test = DataLoader(dataset_test, batch_size=32, shuffle=True)\n"
   ]
  },
  {
   "cell_type": "code",
   "execution_count": 13,
   "id": "f8d8db1f-ff06-4e62-a586-c8d0f7de18bd",
   "metadata": {},
   "outputs": [
    {
     "name": "stdout",
     "output_type": "stream",
     "text": [
      "0\n",
      "torch.Size([32, 126, 1500])\n",
      "torch.Size([32, 2])\n",
      "tensor([59., 14.], device='cuda:0')\n"
     ]
    },
    {
     "data": {
      "image/png": "[encoded data removed]",
      "text/plain": [
       "<Figure size 640x480 with 1 Axes>"
      ]
     },
     "metadata": {},
     "output_type": "display_data"
    }
   ],
   "source": [
    "\n",
    "for i_batch, (inputs, targets) in enumerate(dataloader_test):\n",
    "    \n",
    "    print(i_batch)\n",
    "    print(inputs.shape)\n",
    "    print(targets.shape)\n",
    "    print(targets[0,:])\n",
    "\n",
    "    test_wavelet = inputs[0,:,:].cpu()\n",
    "    \n",
    "    plt.imshow(test_wavelet)\n",
    "    plt.title(\"Continuous wavelet transform\", fontweight =\"bold\")\n",
    "    plt.savefig(\"CWT_test.png\")  \n",
    "    plt.show()\n",
    "\n",
    "    break\n",
    "    "
   ]
  },
  {
   "cell_type": "markdown",
   "id": "2e59323b-77c4-4e5c-803f-4395b53a0d0c",
   "metadata": {},
   "source": [
    "## Einlesen der Daten"
   ]
  },
  {
   "cell_type": "code",
   "execution_count": 14,
   "id": "758b3871-0eff-4d39-9127-1d5d81020161",
   "metadata": {},
   "outputs": [],
   "source": [
    "\n",
    "resnet50 = models.resnet50(weights=ResNet50_Weights.DEFAULT)\n",
    "\n",
    "resnet50.conv1 = nn.Conv2d(inputs.shape[1], 64, kernel_size=(7, 7), stride=(2, 2), padding=(3, 3), bias=False)\n",
    "\n",
    "num_ftrs = resnet50.fc.in_features\n",
    "\n",
    "resnet50.fc = nn.Linear(num_ftrs, 1)\n"
   ]
  },
  {
   "cell_type": "markdown",
   "id": "d101f963-b750-4d50-b67b-c056b92f77d1",
   "metadata": {},
   "source": [
    "## Modellinstanz erstellen"
   ]
  },
  {
   "cell_type": "code",
   "execution_count": 15,
   "id": "33841e0d-0a6a-4012-9ea0-2904655d8254",
   "metadata": {},
   "outputs": [],
   "source": [
    "\n",
    "criterion = nn.MSELoss()\n",
    "\n",
    "optimizer = torch.optim.Adam(resnet50.parameters(), lr=0.001)\n",
    "\n",
    "dateipfad = model_name\n",
    "\n",
    "if os.path.isfile(dateipfad):\n",
    "    print(\"Die Datei existiert.\")\n",
    "    resnet50.load_state_dict(torch.load(model_name))\n",
    "    \n",
    "resnet50 = resnet50.to(device)\n"
   ]
  },
  {
   "cell_type": "code",
   "execution_count": 16,
   "id": "05453a37-e095-4c53-8a85-e1ec2506a924",
   "metadata": {},
   "outputs": [],
   "source": [
    "\n",
    "epochs = 1000\n"
   ]
  },
  {
   "cell_type": "code",
   "execution_count": 17,
   "id": "eac2c3be-02c3-4a1c-b609-5b82adbc0281",
   "metadata": {
    "scrolled": true,
    "tags": []
   },
   "outputs": [],
   "source": [
    "\n",
    "def objective(trial):\n",
    "    \n",
    "    start_time = time.time()\n",
    "\n",
    "    for epoch in range(epochs):  \n",
    "\n",
    "        train_loss = 0.0\n",
    "\n",
    "        resnet50.train()\n",
    "\n",
    "        for i_batch, (inputs, targets) in enumerate(dataloader_train):\n",
    "\n",
    "            inputs, targets = inputs.to(device), targets.to(device)\n",
    "            inputs = inputs.unsqueeze(-1)\n",
    "            optimizer.zero_grad()\n",
    "\n",
    "            outputs = resnet50(inputs)\n",
    "            loss = criterion(outputs, targets[:,0:1])\n",
    "            loss.backward()\n",
    "            optimizer.step()\n",
    "\n",
    "            train_loss += loss.item()\n",
    "\n",
    "        train_loss = train_loss / len(dataloader_train)\n",
    "\n",
    "        valid_loss = 0\n",
    "\n",
    "        resnet50.eval()\n",
    "\n",
    "        with torch.no_grad():\n",
    "\n",
    "            for i_batch, (inputs, targets) in enumerate(dataloader_test):\n",
    "\n",
    "                inputs, targets = inputs.to(device), targets.to(device)\n",
    "\n",
    "                inputs = inputs.unsqueeze(-1)  \n",
    "\n",
    "                outputs = resnet50(inputs)\n",
    "                loss = criterion(outputs, targets[:,0:1])\n",
    "                valid_loss += loss.item()\n",
    "\n",
    "        valid_loss = valid_loss / len(dataloader_test)\n",
    "\n",
    "        if (epoch + 1) % 10 == 0:\n",
    "            print(f'Epoch [{epoch + 1}/{epochs}], Train Loss: {train_loss:.4f}, Val Loss: {valid_loss:.4f}')\n",
    "            \n",
    "        if (epoch + 1) % 1000 == 0:\n",
    "            torch.save(resnet50.state_dict(), model_name)\n",
    "            \n",
    "        if (epoch + 1) % 100 == 0:\n",
    "            print(f'predictions [{outputs.cpu().numpy()[0]}], targets: {targets[:,0:1].cpu().numpy()[0]}')\n",
    "            \n",
    "    end_time = time.time()\n",
    "\n",
    "    execution_time = end_time - start_time\n",
    "    \n",
    "    print(\"Die Ausführungszeit beträgt: \", execution_time, \" Sekunden\")\n",
    "    \n",
    "    return valid_loss\n"
   ]
  },
  {
   "cell_type": "code",
   "execution_count": 18,
   "id": "3d614b8f-a57b-4bd5-8b82-2bb533abad5a",
   "metadata": {},
   "outputs": [
    {
     "name": "stdout",
     "output_type": "stream",
     "text": [
      "Epoch [10/1000], Train Loss: 15.1796, Val Loss: 37.2060\n",
      "Epoch [20/1000], Train Loss: 11.4991, Val Loss: 33.4949\n",
      "Epoch [30/1000], Train Loss: 12.5012, Val Loss: 30.1501\n",
      "Epoch [40/1000], Train Loss: 13.4476, Val Loss: 24.9889\n",
      "Epoch [50/1000], Train Loss: 11.7623, Val Loss: 25.7069\n",
      "Epoch [60/1000], Train Loss: 10.6331, Val Loss: 30.9773\n",
      "Epoch [70/1000], Train Loss: 10.7902, Val Loss: 39.9605\n",
      "Epoch [80/1000], Train Loss: 10.9185, Val Loss: 22.0055\n",
      "Epoch [90/1000], Train Loss: 14.8073, Val Loss: 26.0417\n",
      "Epoch [100/1000], Train Loss: 12.1842, Val Loss: 27.2513\n",
      "predictions [[64.39317]], targets: [73.]\n",
      "Epoch [110/1000], Train Loss: 12.4407, Val Loss: 23.3969\n",
      "Epoch [120/1000], Train Loss: 13.8378, Val Loss: 33.8061\n",
      "Epoch [130/1000], Train Loss: 10.4711, Val Loss: 17.9467\n",
      "Epoch [140/1000], Train Loss: 12.3782, Val Loss: 17.5918\n",
      "Epoch [150/1000], Train Loss: 13.2182, Val Loss: 27.4047\n",
      "Epoch [160/1000], Train Loss: 10.8027, Val Loss: 29.9995\n",
      "Epoch [170/1000], Train Loss: 11.8224, Val Loss: 25.6502\n",
      "Epoch [180/1000], Train Loss: 10.0736, Val Loss: 23.6501\n",
      "Epoch [190/1000], Train Loss: 11.1897, Val Loss: 18.3374\n",
      "Epoch [200/1000], Train Loss: 10.7926, Val Loss: 28.5674\n",
      "predictions [[66.71219]], targets: [72.]\n",
      "Epoch [210/1000], Train Loss: 8.2619, Val Loss: 23.5171\n",
      "Epoch [220/1000], Train Loss: 7.7477, Val Loss: 26.9505\n",
      "Epoch [230/1000], Train Loss: 6.4664, Val Loss: 25.0767\n",
      "Epoch [240/1000], Train Loss: 4.6567, Val Loss: 23.2024\n",
      "Epoch [250/1000], Train Loss: 3.5681, Val Loss: 19.9560\n",
      "Epoch [260/1000], Train Loss: 3.5031, Val Loss: 20.9314\n",
      "Epoch [270/1000], Train Loss: 2.8359, Val Loss: 21.3894\n",
      "Epoch [280/1000], Train Loss: 2.3227, Val Loss: 20.0600\n",
      "Epoch [290/1000], Train Loss: 1.8182, Val Loss: 21.5166\n",
      "Epoch [300/1000], Train Loss: 1.9596, Val Loss: 22.4993\n",
      "predictions [[65.58277]], targets: [71.]\n",
      "Epoch [310/1000], Train Loss: 1.4924, Val Loss: 20.2046\n",
      "Epoch [320/1000], Train Loss: 1.6894, Val Loss: 20.7102\n",
      "Epoch [330/1000], Train Loss: 1.6873, Val Loss: 20.1791\n",
      "Epoch [340/1000], Train Loss: 1.1893, Val Loss: 20.4616\n",
      "Epoch [350/1000], Train Loss: 1.0818, Val Loss: 19.0733\n",
      "Epoch [360/1000], Train Loss: 0.9768, Val Loss: 19.7579\n",
      "Epoch [370/1000], Train Loss: 1.3134, Val Loss: 21.0631\n",
      "Epoch [380/1000], Train Loss: 0.8708, Val Loss: 20.3465\n",
      "Epoch [390/1000], Train Loss: 0.9896, Val Loss: 20.2273\n",
      "Epoch [400/1000], Train Loss: 0.7408, Val Loss: 20.0775\n",
      "predictions [[68.235466]], targets: [65.]\n",
      "Epoch [410/1000], Train Loss: 0.8075, Val Loss: 20.5575\n",
      "Epoch [420/1000], Train Loss: 0.6254, Val Loss: 19.5035\n",
      "Epoch [430/1000], Train Loss: 0.7057, Val Loss: 18.5434\n",
      "Epoch [440/1000], Train Loss: 0.9811, Val Loss: 20.4721\n",
      "Epoch [450/1000], Train Loss: 0.7460, Val Loss: 20.2531\n",
      "Epoch [460/1000], Train Loss: 0.6567, Val Loss: 21.5839\n",
      "Epoch [470/1000], Train Loss: 1.8275, Val Loss: 20.8197\n"
     ]
    },
    {
     "ename": "KeyboardInterrupt",
     "evalue": "",
     "output_type": "error",
     "traceback": [
      "\u001b[1;31m---------------------------------------------------------------------------\u001b[0m",
      "\u001b[1;31mKeyboardInterrupt\u001b[0m                         Traceback (most recent call last)",
      "Cell \u001b[1;32mIn[18], line 1\u001b[0m\n\u001b[1;32m----> 1\u001b[0m loss \u001b[38;5;241m=\u001b[39m \u001b[43mobjective\u001b[49m\u001b[43m(\u001b[49m\u001b[38;5;241;43m0\u001b[39;49m\u001b[43m)\u001b[49m\n\u001b[0;32m      3\u001b[0m \u001b[38;5;28mprint\u001b[39m(loss)\n",
      "Cell \u001b[1;32mIn[17], line 22\u001b[0m, in \u001b[0;36mobjective\u001b[1;34m(trial)\u001b[0m\n\u001b[0;32m     19\u001b[0m     loss\u001b[38;5;241m.\u001b[39mbackward()\n\u001b[0;32m     20\u001b[0m     optimizer\u001b[38;5;241m.\u001b[39mstep()\n\u001b[1;32m---> 22\u001b[0m     train_loss \u001b[38;5;241m+\u001b[39m\u001b[38;5;241m=\u001b[39m loss\u001b[38;5;241m.\u001b[39mitem()\n\u001b[0;32m     24\u001b[0m train_loss \u001b[38;5;241m=\u001b[39m train_loss \u001b[38;5;241m/\u001b[39m \u001b[38;5;28mlen\u001b[39m(dataloader_train)\n\u001b[0;32m     26\u001b[0m valid_loss \u001b[38;5;241m=\u001b[39m \u001b[38;5;241m0\u001b[39m\n",
      "\u001b[1;31mKeyboardInterrupt\u001b[0m: "
     ]
    }
   ],
   "source": [
    "\n",
    "loss = objective(0)\n"
   ]
  },
  {
   "cell_type": "code",
   "execution_count": null,
   "id": "fe888ba4-6c17-4ff5-86da-de2f3ed0732c",
   "metadata": {},
   "outputs": [],
   "source": [
    "\n",
    "print(loss)\n"
   ]
  },
  {
   "cell_type": "code",
   "execution_count": null,
   "id": "199d5aec-a93d-4188-ad40-07ba96e76d88",
   "metadata": {},
   "outputs": [],
   "source": []
  }
 ],
 "metadata": {
  "kernelspec": {
   "display_name": "Python 3 (ipykernel)",
   "language": "python",
   "name": "python3"
  },
  "language_info": {
   "codemirror_mode": {
    "name": "ipython",
    "version": 3
   },
   "file_extension": ".py",
   "mimetype": "text/x-python",
   "name": "python",
   "nbconvert_exporter": "python",
   "pygments_lexer": "ipython3",
   "version": "3.10.10"
  },
  "widgets": {
   "application/vnd.jupyter.widget-state+json": {
    "state": {},
    "version_major": 2,
    "version_minor": 0
   }
  }
 },
 "nbformat": 4,
 "nbformat_minor": 5
}
