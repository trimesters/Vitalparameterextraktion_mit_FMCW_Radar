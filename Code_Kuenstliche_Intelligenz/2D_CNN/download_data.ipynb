{
 "cells": [
  {
   "cell_type": "code",
   "execution_count": 1,
   "id": "86583b4a-c7f7-417b-b3f1-7ddd5809bd20",
   "metadata": {},
   "outputs": [],
   "source": [
    "\n",
    "import os\n",
    "import io\n",
    "\n",
    "import base64\n",
    "import requests\n",
    "import zipfile\n"
   ]
  },
  {
   "cell_type": "code",
   "execution_count": 2,
   "id": "76291b35-4293-4675-bd45-97556300837d",
   "metadata": {},
   "outputs": [],
   "source": [
    "\n",
    "def create_onedrive_directdownload (onedrive_link):\n",
    "    \n",
    "    data_bytes64 = base64.b64encode(bytes(onedrive_link, 'utf-8'))\n",
    "    data_bytes64_String = data_bytes64.decode('utf-8').replace('/','_').replace('+','-').rstrip(\"=\")\n",
    "    resultUrl = f\"https://api.onedrive.com/v1.0/shares/u!{data_bytes64_String}/root/content\"\n",
    "    \n",
    "    return resultUrl\n"
   ]
  },
  {
   "cell_type": "code",
   "execution_count": 3,
   "id": "902c31e8-574c-4a92-ac9f-7a50a90642a3",
   "metadata": {},
   "outputs": [],
   "source": [
    "\n",
    "def download_public_onedrive_file(direct_download_url):\n",
    "    \n",
    "    response = requests.get(direct_download_url)\n",
    "    \n",
    "    return response\n"
   ]
  },
  {
   "cell_type": "code",
   "execution_count": 4,
   "id": "b971844e-971c-4e1f-825b-f3758aadc0b9",
   "metadata": {},
   "outputs": [],
   "source": [
    "\n",
    "def unzip_file(response, extract_to='.'):\n",
    "\n",
    "    with zipfile.ZipFile(io.BytesIO(response.content)) as thezip:\n",
    "        thezip.extractall(path=extract_to)\n"
   ]
  },
  {
   "cell_type": "code",
   "execution_count": 5,
   "id": "4c1eb4af-a49c-4693-baf8-98a8721a3f89",
   "metadata": {},
   "outputs": [
    {
     "name": "stdout",
     "output_type": "stream",
     "text": [
      "Link\n",
      "Create Link\n",
      "Download File\n",
      "Unzip File\n"
     ]
    }
   ],
   "source": [
    "\n",
    "print(\"Link\")\n",
    "url = \"https://1drv.ms/u/s!ApmcE1XrV7PKm8k_25CbTqMfHhCZdg?e=yfLNeZ\"\n",
    "\n",
    "print(\"Create Link\")\n",
    "create_link = create_onedrive_directdownload(url)\n",
    "\n",
    "print(\"Download File\")\n",
    "response = download_public_onedrive_file(create_link)\n",
    "\n",
    "print(\"Unzip File\")\n",
    "unzip_file(response)\n"
   ]
  },
  {
   "cell_type": "code",
   "execution_count": null,
   "id": "4bcb778e-48c1-43fe-a2da-23165e589650",
   "metadata": {},
   "outputs": [],
   "source": []
  }
 ],
 "metadata": {
  "kernelspec": {
   "display_name": "Python 3 (ipykernel)",
   "language": "python",
   "name": "python3"
  },
  "language_info": {
   "codemirror_mode": {
    "name": "ipython",
    "version": 3
   },
   "file_extension": ".py",
   "mimetype": "text/x-python",
   "name": "python",
   "nbconvert_exporter": "python",
   "pygments_lexer": "ipython3",
   "version": "3.10.10"
  },
  "widgets": {
   "application/vnd.jupyter.widget-state+json": {
    "state": {},
    "version_major": 2,
    "version_minor": 0
   }
  }
 },
 "nbformat": 4,
 "nbformat_minor": 5
}
